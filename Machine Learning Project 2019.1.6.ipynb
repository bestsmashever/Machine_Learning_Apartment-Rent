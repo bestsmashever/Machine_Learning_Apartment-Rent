{
 "cells": [
  {
   "cell_type": "markdown",
   "metadata": {},
   "source": [
    "# Dependencies"
   ]
  },
  {
   "cell_type": "code",
   "execution_count": 1,
   "metadata": {},
   "outputs": [],
   "source": [
    "import numpy as np\n",
    "import matplotlib.pyplot as plt\n",
    "import pandas as pd\n",
    "import seaborn as sns\n",
    "%matplotlib inline"
   ]
  },
  {
   "cell_type": "markdown",
   "metadata": {},
   "source": [
    "# Preprocessing the Data"
   ]
  },
  {
   "cell_type": "code",
   "execution_count": 2,
   "metadata": {},
   "outputs": [],
   "source": [
    "# read csv into dataframe\n",
    "filepath = \"Austin Properties 2019.1.6.csv\"\n",
    "csv_df = pd.read_csv(filepath)"
   ]
  },
  {
   "cell_type": "code",
   "execution_count": 3,
   "metadata": {
    "scrolled": true
   },
   "outputs": [
    {
     "data": {
      "text/plain": [
       "Index(['Address', 'Building Name', 'Zip Code', 'Bed', 'Bath', 'Avg SF',\n",
       "       '# Units', 'Mix %', 'Units Available Units', 'Units Available Percent',\n",
       "       'Avg Asking Rent/Unit', 'Avg Asking Rent/SF', 'Avg Effective Rent/Unit',\n",
       "       'Avg Effective Rent/SF', 'Concessions %', 'Year Built',\n",
       "       'Year Renovated', 'Units', 'Lande (Acres)', 'Vacancy %', 'Washer/Dryer',\n",
       "       'Walk in Closet', 'Hardwood/Vinyl Floor', 'Walk Score', 'Transit Score',\n",
       "       '1 Mile Population', '1 Mile Median Household Income',\n",
       "       'Miles from Domain', 'Miles from Downtown', 'Unnamed: 29'],\n",
       "      dtype='object')"
      ]
     },
     "execution_count": 3,
     "metadata": {},
     "output_type": "execute_result"
    }
   ],
   "source": [
    "# check the column names\n",
    "csv_df.columns"
   ]
  },
  {
   "cell_type": "code",
   "execution_count": 4,
   "metadata": {},
   "outputs": [],
   "source": [
    "csv_df = pd.get_dummies(data=csv_df, columns=['Washer/Dryer'])"
   ]
  },
  {
   "cell_type": "code",
   "execution_count": 5,
   "metadata": {},
   "outputs": [],
   "source": [
    "# select certain variables\n",
    "original_df = csv_df[['Bed', 'Bath', 'Avg SF', 'Concessions %', 'Year Built', \n",
    "   'Walk in Closet', 'Hardwood/Vinyl Floor',\n",
    "   'Washer/Dryer_Yes but not in unit', 'Washer/Dryer_Yes in unit', 'Washer/Dryer_no',\n",
    "   'Walk Score', 'Transit Score', '1 Mile Population', '1 Mile Median Household Income',\n",
    "   'Miles from Domain', 'Miles from Downtown', \n",
    "   'Avg Effective Rent/Unit']]"
   ]
  },
  {
   "cell_type": "code",
   "execution_count": 6,
   "metadata": {
    "scrolled": true
   },
   "outputs": [
    {
     "data": {
      "text/plain": [
       "Bed                                  5543\n",
       "Bath                                 5544\n",
       "Avg SF                               5544\n",
       "Concessions %                        5544\n",
       "Year Built                           5544\n",
       "Walk in Closet                       5544\n",
       "Hardwood/Vinyl Floor                 5544\n",
       "Washer/Dryer_Yes but not in unit    11079\n",
       "Washer/Dryer_Yes in unit            11079\n",
       "Washer/Dryer_no                     11079\n",
       "Walk Score                           5526\n",
       "Transit Score                        5526\n",
       "1 Mile Population                    5490\n",
       "1 Mile Median Household Income       5490\n",
       "Miles from Domain                    5544\n",
       "Miles from Downtown                  5544\n",
       "Avg Effective Rent/Unit              5541\n",
       "dtype: int64"
      ]
     },
     "execution_count": 6,
     "metadata": {},
     "output_type": "execute_result"
    }
   ],
   "source": [
    "# check na values\n",
    "original_df.count()"
   ]
  },
  {
   "cell_type": "code",
   "execution_count": 7,
   "metadata": {},
   "outputs": [
    {
     "data": {
      "text/plain": [
       "Bed                                 5468\n",
       "Bath                                5468\n",
       "Avg SF                              5468\n",
       "Concessions %                       5468\n",
       "Year Built                          5468\n",
       "Walk in Closet                      5468\n",
       "Hardwood/Vinyl Floor                5468\n",
       "Washer/Dryer_Yes but not in unit    5468\n",
       "Washer/Dryer_Yes in unit            5468\n",
       "Washer/Dryer_no                     5468\n",
       "Walk Score                          5468\n",
       "Transit Score                       5468\n",
       "1 Mile Population                   5468\n",
       "1 Mile Median Household Income      5468\n",
       "Miles from Domain                   5468\n",
       "Miles from Downtown                 5468\n",
       "Avg Effective Rent/Unit             5468\n",
       "dtype: int64"
      ]
     },
     "execution_count": 7,
     "metadata": {},
     "output_type": "execute_result"
    }
   ],
   "source": [
    "# process na values\n",
    "austin_properties_df = original_df.dropna()\n",
    "# check the result of na value processing\n",
    "austin_properties_df.count()"
   ]
  },
  {
   "cell_type": "code",
   "execution_count": 8,
   "metadata": {},
   "outputs": [
    {
     "data": {
      "text/plain": [
       "Bed                                 float64\n",
       "Bath                                float64\n",
       "Avg SF                              float64\n",
       "Concessions %                       float64\n",
       "Year Built                          float64\n",
       "Walk in Closet                      float64\n",
       "Hardwood/Vinyl Floor                float64\n",
       "Washer/Dryer_Yes but not in unit      uint8\n",
       "Washer/Dryer_Yes in unit              uint8\n",
       "Washer/Dryer_no                       uint8\n",
       "Walk Score                          float64\n",
       "Transit Score                       float64\n",
       "1 Mile Population                   float64\n",
       "1 Mile Median Household Income      float64\n",
       "Miles from Domain                   float64\n",
       "Miles from Downtown                 float64\n",
       "Avg Effective Rent/Unit             float64\n",
       "dtype: object"
      ]
     },
     "execution_count": 8,
     "metadata": {},
     "output_type": "execute_result"
    }
   ],
   "source": [
    "# check the data type\n",
    "austin_properties_df.dtypes"
   ]
  },
  {
   "cell_type": "code",
   "execution_count": 9,
   "metadata": {},
   "outputs": [
    {
     "data": {
      "text/html": [
       "<div>\n",
       "<style scoped>\n",
       "    .dataframe tbody tr th:only-of-type {\n",
       "        vertical-align: middle;\n",
       "    }\n",
       "\n",
       "    .dataframe tbody tr th {\n",
       "        vertical-align: top;\n",
       "    }\n",
       "\n",
       "    .dataframe thead th {\n",
       "        text-align: right;\n",
       "    }\n",
       "</style>\n",
       "<table border=\"1\" class=\"dataframe\">\n",
       "  <thead>\n",
       "    <tr style=\"text-align: right;\">\n",
       "      <th></th>\n",
       "      <th>Bed</th>\n",
       "      <th>Bath</th>\n",
       "      <th>Avg SF</th>\n",
       "      <th>Concessions %</th>\n",
       "      <th>Year Built</th>\n",
       "      <th>Walk in Closet</th>\n",
       "      <th>Hardwood/Vinyl Floor</th>\n",
       "      <th>Washer/Dryer_Yes but not in unit</th>\n",
       "      <th>Washer/Dryer_Yes in unit</th>\n",
       "      <th>Washer/Dryer_no</th>\n",
       "      <th>Walk Score</th>\n",
       "      <th>Transit Score</th>\n",
       "      <th>1 Mile Population</th>\n",
       "      <th>1 Mile Median Household Income</th>\n",
       "      <th>Miles from Domain</th>\n",
       "      <th>Miles from Downtown</th>\n",
       "      <th>Avg Effective Rent/Unit</th>\n",
       "    </tr>\n",
       "  </thead>\n",
       "  <tbody>\n",
       "    <tr>\n",
       "      <th>0</th>\n",
       "      <td>1.0</td>\n",
       "      <td>1.0</td>\n",
       "      <td>560.0</td>\n",
       "      <td>0.01</td>\n",
       "      <td>2016.0</td>\n",
       "      <td>1.0</td>\n",
       "      <td>1.0</td>\n",
       "      <td>0</td>\n",
       "      <td>1</td>\n",
       "      <td>0</td>\n",
       "      <td>88.0</td>\n",
       "      <td>44.0</td>\n",
       "      <td>20115.0</td>\n",
       "      <td>70385.0</td>\n",
       "      <td>12.6</td>\n",
       "      <td>2.1</td>\n",
       "      <td>1528.0</td>\n",
       "    </tr>\n",
       "    <tr>\n",
       "      <th>1</th>\n",
       "      <td>1.0</td>\n",
       "      <td>1.0</td>\n",
       "      <td>612.0</td>\n",
       "      <td>0.01</td>\n",
       "      <td>2016.0</td>\n",
       "      <td>1.0</td>\n",
       "      <td>1.0</td>\n",
       "      <td>0</td>\n",
       "      <td>1</td>\n",
       "      <td>0</td>\n",
       "      <td>88.0</td>\n",
       "      <td>44.0</td>\n",
       "      <td>20115.0</td>\n",
       "      <td>70385.0</td>\n",
       "      <td>12.6</td>\n",
       "      <td>2.1</td>\n",
       "      <td>1633.0</td>\n",
       "    </tr>\n",
       "    <tr>\n",
       "      <th>2</th>\n",
       "      <td>1.0</td>\n",
       "      <td>1.0</td>\n",
       "      <td>629.0</td>\n",
       "      <td>0.01</td>\n",
       "      <td>2016.0</td>\n",
       "      <td>1.0</td>\n",
       "      <td>1.0</td>\n",
       "      <td>0</td>\n",
       "      <td>1</td>\n",
       "      <td>0</td>\n",
       "      <td>88.0</td>\n",
       "      <td>44.0</td>\n",
       "      <td>20115.0</td>\n",
       "      <td>70385.0</td>\n",
       "      <td>12.6</td>\n",
       "      <td>2.1</td>\n",
       "      <td>1740.0</td>\n",
       "    </tr>\n",
       "    <tr>\n",
       "      <th>3</th>\n",
       "      <td>1.0</td>\n",
       "      <td>1.0</td>\n",
       "      <td>774.0</td>\n",
       "      <td>0.01</td>\n",
       "      <td>2016.0</td>\n",
       "      <td>1.0</td>\n",
       "      <td>1.0</td>\n",
       "      <td>0</td>\n",
       "      <td>1</td>\n",
       "      <td>0</td>\n",
       "      <td>88.0</td>\n",
       "      <td>44.0</td>\n",
       "      <td>20115.0</td>\n",
       "      <td>70385.0</td>\n",
       "      <td>12.6</td>\n",
       "      <td>2.1</td>\n",
       "      <td>1778.0</td>\n",
       "    </tr>\n",
       "    <tr>\n",
       "      <th>4</th>\n",
       "      <td>1.0</td>\n",
       "      <td>1.0</td>\n",
       "      <td>778.0</td>\n",
       "      <td>0.01</td>\n",
       "      <td>2016.0</td>\n",
       "      <td>1.0</td>\n",
       "      <td>1.0</td>\n",
       "      <td>0</td>\n",
       "      <td>1</td>\n",
       "      <td>0</td>\n",
       "      <td>88.0</td>\n",
       "      <td>44.0</td>\n",
       "      <td>20115.0</td>\n",
       "      <td>70385.0</td>\n",
       "      <td>12.6</td>\n",
       "      <td>2.1</td>\n",
       "      <td>1852.0</td>\n",
       "    </tr>\n",
       "  </tbody>\n",
       "</table>\n",
       "</div>"
      ],
      "text/plain": [
       "   Bed  Bath  Avg SF  Concessions %  Year Built  Walk in Closet  \\\n",
       "0  1.0   1.0   560.0           0.01      2016.0             1.0   \n",
       "1  1.0   1.0   612.0           0.01      2016.0             1.0   \n",
       "2  1.0   1.0   629.0           0.01      2016.0             1.0   \n",
       "3  1.0   1.0   774.0           0.01      2016.0             1.0   \n",
       "4  1.0   1.0   778.0           0.01      2016.0             1.0   \n",
       "\n",
       "   Hardwood/Vinyl Floor  Washer/Dryer_Yes but not in unit  \\\n",
       "0                   1.0                                 0   \n",
       "1                   1.0                                 0   \n",
       "2                   1.0                                 0   \n",
       "3                   1.0                                 0   \n",
       "4                   1.0                                 0   \n",
       "\n",
       "   Washer/Dryer_Yes in unit  Washer/Dryer_no  Walk Score  Transit Score  \\\n",
       "0                         1                0        88.0           44.0   \n",
       "1                         1                0        88.0           44.0   \n",
       "2                         1                0        88.0           44.0   \n",
       "3                         1                0        88.0           44.0   \n",
       "4                         1                0        88.0           44.0   \n",
       "\n",
       "   1 Mile Population  1 Mile Median Household Income  Miles from Domain  \\\n",
       "0            20115.0                         70385.0               12.6   \n",
       "1            20115.0                         70385.0               12.6   \n",
       "2            20115.0                         70385.0               12.6   \n",
       "3            20115.0                         70385.0               12.6   \n",
       "4            20115.0                         70385.0               12.6   \n",
       "\n",
       "   Miles from Downtown  Avg Effective Rent/Unit  \n",
       "0                  2.1                   1528.0  \n",
       "1                  2.1                   1633.0  \n",
       "2                  2.1                   1740.0  \n",
       "3                  2.1                   1778.0  \n",
       "4                  2.1                   1852.0  "
      ]
     },
     "execution_count": 9,
     "metadata": {},
     "output_type": "execute_result"
    }
   ],
   "source": [
    "# overview of the new dataframe\n",
    "austin_properties_df.head()"
   ]
  },
  {
   "cell_type": "markdown",
   "metadata": {},
   "source": [
    "# Determine X and y for Machine Learning"
   ]
  },
  {
   "cell_type": "code",
   "execution_count": 10,
   "metadata": {},
   "outputs": [],
   "source": [
    "X = austin_properties_df.iloc[:, :-1]\n",
    "y = austin_properties_df['Avg Effective Rent/Unit']"
   ]
  },
  {
   "cell_type": "markdown",
   "metadata": {},
   "source": [
    "# Splitting the data into training and testing sets"
   ]
  },
  {
   "cell_type": "code",
   "execution_count": 11,
   "metadata": {},
   "outputs": [],
   "source": [
    "from sklearn.model_selection import train_test_split\n",
    "\n",
    "# 80/20 training and testing data split\n",
    "X_train, X_test, y_train, y_test = train_test_split(X, y, test_size=0.2, random_state=5)"
   ]
  },
  {
   "cell_type": "code",
   "execution_count": 12,
   "metadata": {},
   "outputs": [
    {
     "name": "stdout",
     "output_type": "stream",
     "text": [
      "(4374, 16)\n",
      "(1094, 16)\n",
      "(4374,)\n",
      "(1094,)\n"
     ]
    }
   ],
   "source": [
    "# check the shape of training and test data\n",
    "print(X_train.shape)\n",
    "print(X_test.shape)\n",
    "print(y_train.shape)\n",
    "print(y_test.shape)"
   ]
  },
  {
   "cell_type": "markdown",
   "metadata": {},
   "source": [
    "# Model (I) - Linear Regression"
   ]
  },
  {
   "cell_type": "code",
   "execution_count": 13,
   "metadata": {},
   "outputs": [],
   "source": [
    "from sklearn.linear_model import LinearRegression\n",
    "from sklearn.metrics import mean_squared_error, r2_score"
   ]
  },
  {
   "cell_type": "code",
   "execution_count": 14,
   "metadata": {},
   "outputs": [
    {
     "data": {
      "text/plain": [
       "LinearRegression(copy_X=True, fit_intercept=True, n_jobs=None,\n",
       "         normalize=False)"
      ]
     },
     "execution_count": 14,
     "metadata": {},
     "output_type": "execute_result"
    }
   ],
   "source": [
    "# train the model\n",
    "lin_model = LinearRegression()\n",
    "lin_model.fit(X_train, y_train)"
   ]
  },
  {
   "cell_type": "code",
   "execution_count": 15,
   "metadata": {},
   "outputs": [
    {
     "name": "stdout",
     "output_type": "stream",
     "text": [
      "Mean Squared Error (MSE): 296512.9266368084\n",
      "R-quared (R2): 0.5344241825987113\n"
     ]
    }
   ],
   "source": [
    "# model evaluation\n",
    "y_test_predicted = lin_model.predict(X_test)\n",
    "mse_test = mean_squared_error(y_test, y_test_predicted)\n",
    "r2_test = r2_score(y_test, y_test_predicted)\n",
    "print(f\"Mean Squared Error (MSE): {mse_test}\")\n",
    "print(f\"R-quared (R2): {r2_test}\")"
   ]
  },
  {
   "cell_type": "markdown",
   "metadata": {},
   "source": [
    "# Model (II) - Polynomial Regression"
   ]
  },
  {
   "cell_type": "code",
   "execution_count": 16,
   "metadata": {},
   "outputs": [],
   "source": [
    "from sklearn.preprocessing import PolynomialFeatures\n",
    "from sklearn.pipeline import Pipeline"
   ]
  },
  {
   "cell_type": "code",
   "execution_count": 28,
   "metadata": {},
   "outputs": [],
   "source": [
    "poly_model = Pipeline([\n",
    "    ('a', PolynomialFeatures(degree=2)),\n",
    "    ('b', LinearRegression(fit_intercept=False))\n",
    "])"
   ]
  },
  {
   "cell_type": "code",
   "execution_count": 18,
   "metadata": {},
   "outputs": [
    {
     "data": {
      "text/plain": [
       "0.44883007398009794"
      ]
     },
     "execution_count": 18,
     "metadata": {},
     "output_type": "execute_result"
    }
   ],
   "source": [
    "poly_model.fit(X_train, y_train)\n",
    "poly_model.score(X_test, y_test)"
   ]
  },
  {
   "cell_type": "markdown",
   "metadata": {},
   "source": [
    "# Random Forest"
   ]
  },
  {
   "cell_type": "code",
   "execution_count": 19,
   "metadata": {},
   "outputs": [],
   "source": [
    "from sklearn.ensemble import RandomForestRegressor"
   ]
  },
  {
   "cell_type": "code",
   "execution_count": 20,
   "metadata": {},
   "outputs": [],
   "source": [
    "rf = RandomForestRegressor(max_depth=2, random_state=0, n_estimators=200)"
   ]
  },
  {
   "cell_type": "code",
   "execution_count": 21,
   "metadata": {},
   "outputs": [
    {
     "data": {
      "text/plain": [
       "RandomForestRegressor(bootstrap=True, criterion='mse', max_depth=2,\n",
       "           max_features='auto', max_leaf_nodes=None,\n",
       "           min_impurity_decrease=0.0, min_impurity_split=None,\n",
       "           min_samples_leaf=1, min_samples_split=2,\n",
       "           min_weight_fraction_leaf=0.0, n_estimators=200, n_jobs=None,\n",
       "           oob_score=False, random_state=0, verbose=0, warm_start=False)"
      ]
     },
     "execution_count": 21,
     "metadata": {},
     "output_type": "execute_result"
    }
   ],
   "source": [
    "rf.fit(X_train, y_train)"
   ]
  },
  {
   "cell_type": "code",
   "execution_count": 22,
   "metadata": {},
   "outputs": [
    {
     "name": "stdout",
     "output_type": "stream",
     "text": [
      "[0.         0.         0.71200253 0.00500308 0.00223621 0.01537523\n",
      " 0.00364181 0.         0.         0.         0.00489611 0.21074496\n",
      " 0.01393217 0.01617954 0.01598836 0.        ]\n"
     ]
    }
   ],
   "source": [
    "print(rf.feature_importances_)"
   ]
  },
  {
   "cell_type": "markdown",
   "metadata": {},
   "source": [
    "# Model (III) - Neural Network Model"
   ]
  },
  {
   "cell_type": "code",
   "execution_count": 23,
   "metadata": {},
   "outputs": [
    {
     "name": "stderr",
     "output_type": "stream",
     "text": [
      "Using TensorFlow backend.\n"
     ]
    }
   ],
   "source": [
    "from keras.models import Sequential\n",
    "from keras.layers import Dense\n",
    "from keras.wrappers.scikit_learn import KerasRegressor\n",
    "from sklearn.model_selection import cross_val_score\n",
    "from sklearn.model_selection import KFold\n",
    "from sklearn.preprocessing import StandardScaler\n",
    "from sklearn.pipeline import Pipeline"
   ]
  },
  {
   "cell_type": "code",
   "execution_count": 24,
   "metadata": {},
   "outputs": [
    {
     "name": "stdout",
     "output_type": "stream",
     "text": [
      "16\n",
      "Index(['Bed', 'Bath', 'Avg SF', 'Concessions %', 'Year Built',\n",
      "       'Walk in Closet', 'Hardwood/Vinyl Floor',\n",
      "       'Washer/Dryer_Yes but not in unit', 'Washer/Dryer_Yes in unit',\n",
      "       'Washer/Dryer_no', 'Walk Score', 'Transit Score', '1 Mile Population',\n",
      "       '1 Mile Median Household Income', 'Miles from Domain',\n",
      "       'Miles from Downtown'],\n",
      "      dtype='object')\n"
     ]
    }
   ],
   "source": [
    "print(len(X_train.columns))\n",
    "print(X_train.columns)"
   ]
  },
  {
   "cell_type": "code",
   "execution_count": 25,
   "metadata": {},
   "outputs": [],
   "source": [
    "# define base model\n",
    "def baseline_model():\n",
    "    # create model\n",
    "    model = Sequential()\n",
    "    model.add(Dense(13, input_dim=16, kernel_initializer='normal', activation='relu'))\n",
    "    model.add(Dense(1, kernel_initializer='normal'))\n",
    "    \n",
    "    # compile model\n",
    "    model.compile(loss='mean_squared_error', optimizer='adam')\n",
    "    return model"
   ]
  },
  {
   "cell_type": "code",
   "execution_count": 26,
   "metadata": {},
   "outputs": [],
   "source": [
    "# fix random seed for reproducibility\n",
    "seed = 7\n",
    "np.random.seed(seed)\n",
    "# evaluate model with standardized dataset\n",
    "estimator = KerasRegressor(build_fn=baseline_model, epochs=100, batch_size=5, verbose=0)"
   ]
  },
  {
   "cell_type": "code",
   "execution_count": 27,
   "metadata": {},
   "outputs": [
    {
     "name": "stdout",
     "output_type": "stream",
     "text": [
      "Results: -297837.78843523527, 109574.00568921285 MSE\n"
     ]
    }
   ],
   "source": [
    "kfold = KFold(n_splits=10, random_state=seed)\n",
    "results = cross_val_score(estimator, X_train, y_train, cv=kfold)\n",
    "print(f\"Results: {results.mean()}, {results.std()} MSE\")"
   ]
  },
  {
   "cell_type": "code",
   "execution_count": null,
   "metadata": {},
   "outputs": [],
   "source": []
  },
  {
   "cell_type": "markdown",
   "metadata": {},
   "source": [
    "# Residuals"
   ]
  },
  {
   "cell_type": "code",
   "execution_count": null,
   "metadata": {
    "scrolled": true
   },
   "outputs": [],
   "source": [
    "plt.scatter(y_test_predicted, y_test_predicted-y_test)\n",
    "plt.hlines(y=0, xmin=y_test_predicted.min(), xmax=y_test_predicted.max())\n",
    "plt.show()"
   ]
  },
  {
   "cell_type": "code",
   "execution_count": null,
   "metadata": {},
   "outputs": [],
   "source": [
    "model.predict()"
   ]
  }
 ],
 "metadata": {
  "kernelspec": {
   "display_name": "Python [conda env:PyData]",
   "language": "python",
   "name": "conda-env-PyData-py"
  },
  "language_info": {
   "codemirror_mode": {
    "name": "ipython",
    "version": 3
   },
   "file_extension": ".py",
   "mimetype": "text/x-python",
   "name": "python",
   "nbconvert_exporter": "python",
   "pygments_lexer": "ipython3",
   "version": "3.6.7"
  }
 },
 "nbformat": 4,
 "nbformat_minor": 2
}
