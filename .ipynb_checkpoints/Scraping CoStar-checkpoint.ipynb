{
 "cells": [
  {
   "cell_type": "code",
   "execution_count": 1,
   "metadata": {},
   "outputs": [],
   "source": [
    "from splinter import Browser\n",
    "import pandas as pd\n",
    "from splinter.exceptions import ElementDoesNotExist\n",
    "import time"
   ]
  },
  {
   "cell_type": "code",
   "execution_count": 2,
   "metadata": {},
   "outputs": [],
   "source": [
    "# set the chromedriver path\n",
    "executable_path = {\"executable_path\": \"/usr/local/bin/chromedriver\"}\n",
    "browser = Browser(\"chrome\", **executable_path, headless=False)"
   ]
  },
  {
   "cell_type": "code",
   "execution_count": 3,
   "metadata": {},
   "outputs": [],
   "source": [
    "costar_url = \"https://costar.com/\"\n",
    "browser.visit(costar_url)\n",
    "\n",
    "# login\n",
    "browser.click_link_by_id('loginLink')\n",
    "browser.fill('username', 'SDong2')\n",
    "browser.fill('password', '719111719111')\n",
    "browser.click_link_by_id('loginButton')\n",
    "time.sleep(20)"
   ]
  },
  {
   "cell_type": "code",
   "execution_count": 4,
   "metadata": {},
   "outputs": [],
   "source": [
    "Address = '1234 E Riverside Dr, Austin, TX'"
   ]
  },
  {
   "cell_type": "code",
   "execution_count": 5,
   "metadata": {},
   "outputs": [],
   "source": [
    "try:\n",
    "    x_path = '//*[@id=\"cs-gateway-home-page\"]/div[2]/div[1]/div/div/div[2]/div/div[1]/input'\n",
    "    search_box = browser.find_by_xpath(x_path)\n",
    "    search_box.fill(Address)\n",
    "    search_button = browser.find_by_xpath('//*[@id=\"react-autowhatever-1--item-0\"]/div/span[1]')\n",
    "    search_button.click()\n",
    "    time.sleep(20)\n",
    "    built_year = browser.find_by_xpath('//*[@id=\"Building_YearBuilt\"]/span[2]').text\n",
    "    if len(built_year) > 4:\n",
    "        built_year = built_year.split(' ')[1]\n",
    "        built_year = float(built_year)\n",
    "    else:\n",
    "        built_year = float(built_year)\n",
    "except:\n",
    "    built_year = 1997"
   ]
  },
  {
   "cell_type": "code",
   "execution_count": 6,
   "metadata": {},
   "outputs": [],
   "source": [
    "browser.quit()"
   ]
  },
  {
   "cell_type": "code",
   "execution_count": 7,
   "metadata": {},
   "outputs": [
    {
     "name": "stdout",
     "output_type": "stream",
     "text": [
      "1997\n"
     ]
    }
   ],
   "source": [
    "print(built_year)"
   ]
  },
  {
   "cell_type": "code",
   "execution_count": null,
   "metadata": {},
   "outputs": [],
   "source": []
  }
 ],
 "metadata": {
  "kernelspec": {
   "display_name": "Python [conda env:PyData]",
   "language": "python",
   "name": "conda-env-PyData-py"
  },
  "language_info": {
   "codemirror_mode": {
    "name": "ipython",
    "version": 3
   },
   "file_extension": ".py",
   "mimetype": "text/x-python",
   "name": "python",
   "nbconvert_exporter": "python",
   "pygments_lexer": "ipython3",
   "version": "3.6.7"
  }
 },
 "nbformat": 4,
 "nbformat_minor": 2
}
