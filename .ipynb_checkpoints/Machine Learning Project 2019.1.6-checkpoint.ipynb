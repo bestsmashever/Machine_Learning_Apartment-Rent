{
 "cells": [
  {
   "cell_type": "markdown",
   "metadata": {},
   "source": [
    "# Dependencies"
   ]
  },
  {
   "cell_type": "code",
   "execution_count": 1,
   "metadata": {},
   "outputs": [],
   "source": [
    "import numpy as np\n",
    "import matplotlib.pyplot as plt\n",
    "import pandas as pd\n",
    "import seaborn as sns\n",
    "%matplotlib inline"
   ]
  },
  {
   "cell_type": "markdown",
   "metadata": {},
   "source": [
    "# Preprocessing the Data"
   ]
  },
  {
   "cell_type": "code",
   "execution_count": 2,
   "metadata": {},
   "outputs": [],
   "source": [
    "# read csv into dataframe\n",
    "filepath = \"Austin Properties 2019.1.6.csv\"\n",
    "csv_df = pd.read_csv(filepath)"
   ]
  },
  {
   "cell_type": "code",
   "execution_count": 3,
   "metadata": {
    "scrolled": true
   },
   "outputs": [
    {
     "data": {
      "text/plain": [
       "Index(['Address', 'Building Name', 'Zip Code', 'Bed', 'Bath', 'Avg SF',\n",
       "       '# Units', 'Mix %', 'Units Available Units', 'Units Available Percent',\n",
       "       'Avg Asking Rent/Unit', 'Avg Asking Rent/SF', 'Avg Effective Rent/Unit',\n",
       "       'Avg Effective Rent/SF', 'Concessions %', 'Year Built',\n",
       "       'Year Renovated', 'Units', 'Lande (Acres)', 'Vacancy %', 'Washer/Dryer',\n",
       "       'Walk in Closet', 'Hardwood/Vinyl Floor', 'Walk Score', 'Transit Score',\n",
       "       '1 Mile Population', '1 Mile Median Household Income',\n",
       "       'Miles from Domain', 'Miles from Downtown', 'Unnamed: 29'],\n",
       "      dtype='object')"
      ]
     },
     "execution_count": 3,
     "metadata": {},
     "output_type": "execute_result"
    }
   ],
   "source": [
    "# check the column names\n",
    "csv_df.columns"
   ]
  },
  {
   "cell_type": "code",
   "execution_count": 4,
   "metadata": {},
   "outputs": [],
   "source": [
    "csv_df = pd.get_dummies(data=csv_df, columns=['Washer/Dryer'])"
   ]
  },
  {
   "cell_type": "code",
   "execution_count": 5,
   "metadata": {},
   "outputs": [],
   "source": [
    "# select certain variables\n",
    "original_df = csv_df[['Bed', 'Bath', 'Avg SF', 'Concessions %', 'Year Built', \n",
    "   'Walk in Closet', 'Hardwood/Vinyl Floor',\n",
    "   'Washer/Dryer_Yes but not in unit', 'Washer/Dryer_Yes in unit', 'Washer/Dryer_no',\n",
    "   'Walk Score', 'Transit Score', '1 Mile Population', '1 Mile Median Household Income',\n",
    "   'Miles from Domain', 'Miles from Downtown', \n",
    "   'Avg Effective Rent/Unit']]"
   ]
  },
  {
   "cell_type": "code",
   "execution_count": 6,
   "metadata": {},
   "outputs": [
    {
     "data": {
      "text/plain": [
       "Bed                                 5468\n",
       "Bath                                5468\n",
       "Avg SF                              5468\n",
       "Concessions %                       5468\n",
       "Year Built                          5468\n",
       "Walk in Closet                      5468\n",
       "Hardwood/Vinyl Floor                5468\n",
       "Washer/Dryer_Yes but not in unit    5468\n",
       "Washer/Dryer_Yes in unit            5468\n",
       "Washer/Dryer_no                     5468\n",
       "Walk Score                          5468\n",
       "Transit Score                       5468\n",
       "1 Mile Population                   5468\n",
       "1 Mile Median Household Income      5468\n",
       "Miles from Domain                   5468\n",
       "Miles from Downtown                 5468\n",
       "Avg Effective Rent/Unit             5468\n",
       "dtype: int64"
      ]
     },
     "execution_count": 6,
     "metadata": {},
     "output_type": "execute_result"
    }
   ],
   "source": [
    "# process na values\n",
    "austin_properties_df = original_df.dropna()\n",
    "# check the result of na value processing\n",
    "austin_properties_df.count()"
   ]
  },
  {
   "cell_type": "code",
   "execution_count": 7,
   "metadata": {
    "scrolled": true
   },
   "outputs": [
    {
     "data": {
      "text/plain": [
       "Bed                                 float64\n",
       "Bath                                float64\n",
       "Avg SF                              float64\n",
       "Concessions %                       float64\n",
       "Year Built                          float64\n",
       "Walk in Closet                      float64\n",
       "Hardwood/Vinyl Floor                float64\n",
       "Washer/Dryer_Yes but not in unit      uint8\n",
       "Washer/Dryer_Yes in unit              uint8\n",
       "Washer/Dryer_no                       uint8\n",
       "Walk Score                          float64\n",
       "Transit Score                       float64\n",
       "1 Mile Population                   float64\n",
       "1 Mile Median Household Income      float64\n",
       "Miles from Domain                   float64\n",
       "Miles from Downtown                 float64\n",
       "Avg Effective Rent/Unit             float64\n",
       "dtype: object"
      ]
     },
     "execution_count": 7,
     "metadata": {},
     "output_type": "execute_result"
    }
   ],
   "source": [
    "# check the data type\n",
    "austin_properties_df.dtypes"
   ]
  },
  {
   "cell_type": "code",
   "execution_count": 8,
   "metadata": {
    "scrolled": true
   },
   "outputs": [
    {
     "data": {
      "text/html": [
       "<div>\n",
       "<style scoped>\n",
       "    .dataframe tbody tr th:only-of-type {\n",
       "        vertical-align: middle;\n",
       "    }\n",
       "\n",
       "    .dataframe tbody tr th {\n",
       "        vertical-align: top;\n",
       "    }\n",
       "\n",
       "    .dataframe thead th {\n",
       "        text-align: right;\n",
       "    }\n",
       "</style>\n",
       "<table border=\"1\" class=\"dataframe\">\n",
       "  <thead>\n",
       "    <tr style=\"text-align: right;\">\n",
       "      <th></th>\n",
       "      <th>Bed</th>\n",
       "      <th>Bath</th>\n",
       "      <th>Avg SF</th>\n",
       "      <th>Concessions %</th>\n",
       "      <th>Year Built</th>\n",
       "      <th>Walk in Closet</th>\n",
       "      <th>Hardwood/Vinyl Floor</th>\n",
       "      <th>Washer/Dryer_Yes but not in unit</th>\n",
       "      <th>Washer/Dryer_Yes in unit</th>\n",
       "      <th>Washer/Dryer_no</th>\n",
       "      <th>Walk Score</th>\n",
       "      <th>Transit Score</th>\n",
       "      <th>1 Mile Population</th>\n",
       "      <th>1 Mile Median Household Income</th>\n",
       "      <th>Miles from Domain</th>\n",
       "      <th>Miles from Downtown</th>\n",
       "      <th>Avg Effective Rent/Unit</th>\n",
       "    </tr>\n",
       "  </thead>\n",
       "  <tbody>\n",
       "    <tr>\n",
       "      <th>0</th>\n",
       "      <td>1.0</td>\n",
       "      <td>1.0</td>\n",
       "      <td>560.0</td>\n",
       "      <td>0.01</td>\n",
       "      <td>2016.0</td>\n",
       "      <td>1.0</td>\n",
       "      <td>1.0</td>\n",
       "      <td>0</td>\n",
       "      <td>1</td>\n",
       "      <td>0</td>\n",
       "      <td>88.0</td>\n",
       "      <td>44.0</td>\n",
       "      <td>20115.0</td>\n",
       "      <td>70385.0</td>\n",
       "      <td>12.6</td>\n",
       "      <td>2.1</td>\n",
       "      <td>1528.0</td>\n",
       "    </tr>\n",
       "    <tr>\n",
       "      <th>1</th>\n",
       "      <td>1.0</td>\n",
       "      <td>1.0</td>\n",
       "      <td>612.0</td>\n",
       "      <td>0.01</td>\n",
       "      <td>2016.0</td>\n",
       "      <td>1.0</td>\n",
       "      <td>1.0</td>\n",
       "      <td>0</td>\n",
       "      <td>1</td>\n",
       "      <td>0</td>\n",
       "      <td>88.0</td>\n",
       "      <td>44.0</td>\n",
       "      <td>20115.0</td>\n",
       "      <td>70385.0</td>\n",
       "      <td>12.6</td>\n",
       "      <td>2.1</td>\n",
       "      <td>1633.0</td>\n",
       "    </tr>\n",
       "    <tr>\n",
       "      <th>2</th>\n",
       "      <td>1.0</td>\n",
       "      <td>1.0</td>\n",
       "      <td>629.0</td>\n",
       "      <td>0.01</td>\n",
       "      <td>2016.0</td>\n",
       "      <td>1.0</td>\n",
       "      <td>1.0</td>\n",
       "      <td>0</td>\n",
       "      <td>1</td>\n",
       "      <td>0</td>\n",
       "      <td>88.0</td>\n",
       "      <td>44.0</td>\n",
       "      <td>20115.0</td>\n",
       "      <td>70385.0</td>\n",
       "      <td>12.6</td>\n",
       "      <td>2.1</td>\n",
       "      <td>1740.0</td>\n",
       "    </tr>\n",
       "    <tr>\n",
       "      <th>3</th>\n",
       "      <td>1.0</td>\n",
       "      <td>1.0</td>\n",
       "      <td>774.0</td>\n",
       "      <td>0.01</td>\n",
       "      <td>2016.0</td>\n",
       "      <td>1.0</td>\n",
       "      <td>1.0</td>\n",
       "      <td>0</td>\n",
       "      <td>1</td>\n",
       "      <td>0</td>\n",
       "      <td>88.0</td>\n",
       "      <td>44.0</td>\n",
       "      <td>20115.0</td>\n",
       "      <td>70385.0</td>\n",
       "      <td>12.6</td>\n",
       "      <td>2.1</td>\n",
       "      <td>1778.0</td>\n",
       "    </tr>\n",
       "    <tr>\n",
       "      <th>4</th>\n",
       "      <td>1.0</td>\n",
       "      <td>1.0</td>\n",
       "      <td>778.0</td>\n",
       "      <td>0.01</td>\n",
       "      <td>2016.0</td>\n",
       "      <td>1.0</td>\n",
       "      <td>1.0</td>\n",
       "      <td>0</td>\n",
       "      <td>1</td>\n",
       "      <td>0</td>\n",
       "      <td>88.0</td>\n",
       "      <td>44.0</td>\n",
       "      <td>20115.0</td>\n",
       "      <td>70385.0</td>\n",
       "      <td>12.6</td>\n",
       "      <td>2.1</td>\n",
       "      <td>1852.0</td>\n",
       "    </tr>\n",
       "  </tbody>\n",
       "</table>\n",
       "</div>"
      ],
      "text/plain": [
       "   Bed  Bath  Avg SF  Concessions %  Year Built  Walk in Closet  \\\n",
       "0  1.0   1.0   560.0           0.01      2016.0             1.0   \n",
       "1  1.0   1.0   612.0           0.01      2016.0             1.0   \n",
       "2  1.0   1.0   629.0           0.01      2016.0             1.0   \n",
       "3  1.0   1.0   774.0           0.01      2016.0             1.0   \n",
       "4  1.0   1.0   778.0           0.01      2016.0             1.0   \n",
       "\n",
       "   Hardwood/Vinyl Floor  Washer/Dryer_Yes but not in unit  \\\n",
       "0                   1.0                                 0   \n",
       "1                   1.0                                 0   \n",
       "2                   1.0                                 0   \n",
       "3                   1.0                                 0   \n",
       "4                   1.0                                 0   \n",
       "\n",
       "   Washer/Dryer_Yes in unit  Washer/Dryer_no  Walk Score  Transit Score  \\\n",
       "0                         1                0        88.0           44.0   \n",
       "1                         1                0        88.0           44.0   \n",
       "2                         1                0        88.0           44.0   \n",
       "3                         1                0        88.0           44.0   \n",
       "4                         1                0        88.0           44.0   \n",
       "\n",
       "   1 Mile Population  1 Mile Median Household Income  Miles from Domain  \\\n",
       "0            20115.0                         70385.0               12.6   \n",
       "1            20115.0                         70385.0               12.6   \n",
       "2            20115.0                         70385.0               12.6   \n",
       "3            20115.0                         70385.0               12.6   \n",
       "4            20115.0                         70385.0               12.6   \n",
       "\n",
       "   Miles from Downtown  Avg Effective Rent/Unit  \n",
       "0                  2.1                   1528.0  \n",
       "1                  2.1                   1633.0  \n",
       "2                  2.1                   1740.0  \n",
       "3                  2.1                   1778.0  \n",
       "4                  2.1                   1852.0  "
      ]
     },
     "execution_count": 8,
     "metadata": {},
     "output_type": "execute_result"
    }
   ],
   "source": [
    "# overview of the new dataframe\n",
    "austin_properties_df.head()"
   ]
  },
  {
   "cell_type": "code",
   "execution_count": 9,
   "metadata": {},
   "outputs": [
    {
     "data": {
      "text/plain": [
       "1997.693672275055"
      ]
     },
     "execution_count": 9,
     "metadata": {},
     "output_type": "execute_result"
    }
   ],
   "source": [
    "austin_properties_df[\"Year Built\"].mean()"
   ]
  },
  {
   "cell_type": "markdown",
   "metadata": {},
   "source": [
    "# Determine X and y for Machine Learning"
   ]
  },
  {
   "cell_type": "code",
   "execution_count": 10,
   "metadata": {},
   "outputs": [],
   "source": [
    "X = austin_properties_df.iloc[:, :-1]\n",
    "y = austin_properties_df['Avg Effective Rent/Unit']"
   ]
  },
  {
   "cell_type": "markdown",
   "metadata": {},
   "source": [
    "# Splitting the data into training and testing sets"
   ]
  },
  {
   "cell_type": "code",
   "execution_count": 11,
   "metadata": {},
   "outputs": [],
   "source": [
    "from sklearn.model_selection import train_test_split\n",
    "\n",
    "# 80/20 training and testing data split\n",
    "X_train, X_test, y_train, y_test = train_test_split(X, y, test_size=0.2, random_state=5)"
   ]
  },
  {
   "cell_type": "code",
   "execution_count": 12,
   "metadata": {},
   "outputs": [
    {
     "name": "stdout",
     "output_type": "stream",
     "text": [
      "(4374, 16)\n",
      "(1094, 16)\n",
      "(4374,)\n",
      "(1094,)\n"
     ]
    }
   ],
   "source": [
    "# check the shape of training and test data\n",
    "print(X_train.shape)\n",
    "print(X_test.shape)\n",
    "print(y_train.shape)\n",
    "print(y_test.shape)"
   ]
  },
  {
   "cell_type": "markdown",
   "metadata": {},
   "source": [
    "# Model (I) - Linear Regression"
   ]
  },
  {
   "cell_type": "code",
   "execution_count": 13,
   "metadata": {},
   "outputs": [],
   "source": [
    "from sklearn.linear_model import LinearRegression\n",
    "from sklearn.metrics import mean_squared_error, r2_score"
   ]
  },
  {
   "cell_type": "code",
   "execution_count": 14,
   "metadata": {},
   "outputs": [
    {
     "data": {
      "text/plain": [
       "LinearRegression(copy_X=True, fit_intercept=True, n_jobs=None,\n",
       "         normalize=False)"
      ]
     },
     "execution_count": 14,
     "metadata": {},
     "output_type": "execute_result"
    }
   ],
   "source": [
    "# train the model\n",
    "lin_model = LinearRegression()\n",
    "lin_model.fit(X_train, y_train)"
   ]
  },
  {
   "cell_type": "code",
   "execution_count": 15,
   "metadata": {},
   "outputs": [
    {
     "name": "stdout",
     "output_type": "stream",
     "text": [
      "Mean Squared Error (MSE): 296512.9266368084\n",
      "R-quared (R2): 0.5344241825987113\n"
     ]
    }
   ],
   "source": [
    "# model evaluation\n",
    "y_test_predicted = lin_model.predict(X_test)\n",
    "mse_test = mean_squared_error(y_test, y_test_predicted)\n",
    "r2_test = r2_score(y_test, y_test_predicted)\n",
    "print(f\"Mean Squared Error (MSE): {mse_test}\")\n",
    "print(f\"R-quared (R2): {r2_test}\")"
   ]
  },
  {
   "cell_type": "markdown",
   "metadata": {},
   "source": [
    "# Model (II) - Polynomial Regression"
   ]
  },
  {
   "cell_type": "code",
   "execution_count": 16,
   "metadata": {},
   "outputs": [],
   "source": [
    "from sklearn.preprocessing import PolynomialFeatures\n",
    "from sklearn.pipeline import Pipeline"
   ]
  },
  {
   "cell_type": "code",
   "execution_count": 17,
   "metadata": {},
   "outputs": [],
   "source": [
    "poly_model = Pipeline([\n",
    "    ('a', PolynomialFeatures(degree=2)),\n",
    "    ('b', LinearRegression(fit_intercept=False))\n",
    "])"
   ]
  },
  {
   "cell_type": "code",
   "execution_count": 18,
   "metadata": {},
   "outputs": [
    {
     "data": {
      "text/plain": [
       "0.44883007398009794"
      ]
     },
     "execution_count": 18,
     "metadata": {},
     "output_type": "execute_result"
    }
   ],
   "source": [
    "poly_model.fit(X_train, y_train)\n",
    "poly_model.score(X_test, y_test)"
   ]
  },
  {
   "cell_type": "markdown",
   "metadata": {},
   "source": [
    "# Model (III) Random Forest"
   ]
  },
  {
   "cell_type": "code",
   "execution_count": null,
   "metadata": {
    "scrolled": true
   },
   "outputs": [
    {
     "name": "stderr",
     "output_type": "stream",
     "text": [
      "/Users/apple/Documents/anaconda3/envs/PyData/lib/python3.6/site-packages/sklearn/model_selection/_split.py:2053: FutureWarning: You should specify a value for 'cv' instead of relying on the default value. The default value will change from 3 to 5 in version 0.22.\n",
      "  warnings.warn(CV_WARNING, FutureWarning)\n",
      "[Parallel(n_jobs=1)]: Using backend SequentialBackend with 1 concurrent workers.\n",
      "[Parallel(n_jobs=1)]: Done   1 out of   1 | elapsed:    0.0s remaining:    0.0s\n",
      "[Parallel(n_jobs=1)]: Done   2 out of   2 | elapsed:    0.1s remaining:    0.0s\n"
     ]
    },
    {
     "name": "stdout",
     "output_type": "stream",
     "text": [
      "Fitting 3 folds for each of 499 candidates, totalling 1497 fits\n",
      "[CV] n_estimators=1 ..................................................\n",
      "[CV] .......... n_estimators=1, score=0.936103360114957, total=   0.0s\n",
      "[CV] n_estimators=1 ..................................................\n",
      "[CV] ......... n_estimators=1, score=0.8620350776106729, total=   0.0s\n",
      "[CV] n_estimators=1 ..................................................\n",
      "[CV] ......... n_estimators=1, score=0.8752445485214535, total=   0.0s\n",
      "[CV] n_estimators=3 ..................................................\n",
      "[CV] ......... n_estimators=3, score=0.9343480771121119, total=   0.1s\n",
      "[CV] n_estimators=3 ..................................................\n",
      "[CV] ......... n_estimators=3, score=0.8845040595415848, total=   0.0s\n",
      "[CV] n_estimators=3 ..................................................\n",
      "[CV] ......... n_estimators=3, score=0.8776823223594649, total=   0.0s\n",
      "[CV] n_estimators=5 ..................................................\n",
      "[CV] ......... n_estimators=5, score=0.9422218474564897, total=   0.1s\n",
      "[CV] n_estimators=5 ..................................................\n",
      "[CV] ......... n_estimators=5, score=0.9302620528074228, total=   0.1s\n",
      "[CV] n_estimators=5 ..................................................\n",
      "[CV] ......... n_estimators=5, score=0.9179909683325409, total=   0.1s\n",
      "[CV] n_estimators=7 ..................................................\n",
      "[CV] ......... n_estimators=7, score=0.9277449585190022, total=   0.1s\n",
      "[CV] n_estimators=7 ..................................................\n",
      "[CV] ......... n_estimators=7, score=0.9289902110853684, total=   0.1s\n",
      "[CV] n_estimators=7 ..................................................\n",
      "[CV] ......... n_estimators=7, score=0.9277923087919298, total=   0.1s\n",
      "[CV] n_estimators=9 ..................................................\n",
      "[CV] ......... n_estimators=9, score=0.9396830273785816, total=   0.1s\n",
      "[CV] n_estimators=9 ..................................................\n",
      "[CV] ......... n_estimators=9, score=0.9334321426619733, total=   0.1s\n",
      "[CV] n_estimators=9 ..................................................\n",
      "[CV] ......... n_estimators=9, score=0.9315728189124844, total=   0.1s\n",
      "[CV] n_estimators=11 .................................................\n",
      "[CV] ........ n_estimators=11, score=0.9344489495140913, total=   0.1s\n",
      "[CV] n_estimators=11 .................................................\n",
      "[CV] ........ n_estimators=11, score=0.9363659817608656, total=   0.2s\n",
      "[CV] n_estimators=11 .................................................\n",
      "[CV] ........ n_estimators=11, score=0.9294963035572473, total=   0.2s\n",
      "[CV] n_estimators=13 .................................................\n",
      "[CV] ......... n_estimators=13, score=0.943474900301094, total=   0.2s\n",
      "[CV] n_estimators=13 .................................................\n",
      "[CV] ........ n_estimators=13, score=0.9232248583794658, total=   0.2s\n",
      "[CV] n_estimators=13 .................................................\n",
      "[CV] ........ n_estimators=13, score=0.9175766347745613, total=   0.2s\n",
      "[CV] n_estimators=15 .................................................\n",
      "[CV] ........ n_estimators=15, score=0.9303848343107736, total=   0.2s\n",
      "[CV] n_estimators=15 .................................................\n",
      "[CV] ........ n_estimators=15, score=0.9158134253403305, total=   0.2s\n",
      "[CV] n_estimators=15 .................................................\n",
      "[CV] ........ n_estimators=15, score=0.9237264031533531, total=   0.2s\n",
      "[CV] n_estimators=17 .................................................\n",
      "[CV] ........ n_estimators=17, score=0.9312765260333061, total=   0.2s\n",
      "[CV] n_estimators=17 .................................................\n",
      "[CV] ........ n_estimators=17, score=0.9252152976563535, total=   0.2s\n",
      "[CV] n_estimators=17 .................................................\n",
      "[CV] ........ n_estimators=17, score=0.9260885959999727, total=   0.2s\n",
      "[CV] n_estimators=19 .................................................\n",
      "[CV] ........ n_estimators=19, score=0.9380274013836295, total=   0.3s\n",
      "[CV] n_estimators=19 .................................................\n",
      "[CV] ........ n_estimators=19, score=0.9124172956971008, total=   0.3s\n",
      "[CV] n_estimators=19 .................................................\n",
      "[CV] ........ n_estimators=19, score=0.9267233359996956, total=   0.3s\n",
      "[CV] n_estimators=21 .................................................\n",
      "[CV] .......... n_estimators=21, score=0.93780455774805, total=   0.4s\n",
      "[CV] n_estimators=21 .................................................\n",
      "[CV] ........ n_estimators=21, score=0.9328054290664906, total=   0.5s\n",
      "[CV] n_estimators=21 .................................................\n",
      "[CV] .......... n_estimators=21, score=0.92839615900987, total=   0.4s\n",
      "[CV] n_estimators=23 .................................................\n",
      "[CV] ........ n_estimators=23, score=0.9300257440296398, total=   0.5s\n",
      "[CV] n_estimators=23 .................................................\n",
      "[CV] ........ n_estimators=23, score=0.9252649443201681, total=   0.3s\n",
      "[CV] n_estimators=23 .................................................\n",
      "[CV] ........ n_estimators=23, score=0.9259481405375971, total=   0.4s\n",
      "[CV] n_estimators=25 .................................................\n",
      "[CV] ........ n_estimators=25, score=0.9478642672181858, total=   0.5s\n",
      "[CV] n_estimators=25 .................................................\n",
      "[CV] ........ n_estimators=25, score=0.9226235233464294, total=   0.5s\n",
      "[CV] n_estimators=25 .................................................\n",
      "[CV] ........ n_estimators=25, score=0.9297229202720247, total=   0.4s\n",
      "[CV] n_estimators=27 .................................................\n",
      "[CV] ........ n_estimators=27, score=0.9290961837498262, total=   0.5s\n",
      "[CV] n_estimators=27 .................................................\n",
      "[CV] ........ n_estimators=27, score=0.9346296544803953, total=   0.6s\n",
      "[CV] n_estimators=27 .................................................\n",
      "[CV] ........ n_estimators=27, score=0.9256998523058886, total=   0.5s\n",
      "[CV] n_estimators=29 .................................................\n",
      "[CV] ........ n_estimators=29, score=0.9364013671361134, total=   0.4s\n",
      "[CV] n_estimators=29 .................................................\n",
      "[CV] ........ n_estimators=29, score=0.9290699207246628, total=   0.4s\n",
      "[CV] n_estimators=29 .................................................\n",
      "[CV] ........ n_estimators=29, score=0.9274591292558156, total=   0.4s\n",
      "[CV] n_estimators=31 .................................................\n",
      "[CV] .......... n_estimators=31, score=0.94356492895433, total=   0.5s\n",
      "[CV] n_estimators=31 .................................................\n",
      "[CV] ........ n_estimators=31, score=0.9276687624503634, total=   0.4s\n",
      "[CV] n_estimators=31 .................................................\n",
      "[CV] ........ n_estimators=31, score=0.9274717781158108, total=   0.5s\n",
      "[CV] n_estimators=33 .................................................\n",
      "[CV] ........ n_estimators=33, score=0.9385212236928631, total=   0.6s\n",
      "[CV] n_estimators=33 .................................................\n",
      "[CV] ........ n_estimators=33, score=0.9334798856443859, total=   0.6s\n",
      "[CV] n_estimators=33 .................................................\n",
      "[CV] ........ n_estimators=33, score=0.9346611101904396, total=   0.6s\n",
      "[CV] n_estimators=35 .................................................\n",
      "[CV] ........ n_estimators=35, score=0.9437387283435718, total=   0.6s\n",
      "[CV] n_estimators=35 .................................................\n",
      "[CV] ........ n_estimators=35, score=0.9276855346662806, total=   0.5s\n",
      "[CV] n_estimators=35 .................................................\n",
      "[CV] ........ n_estimators=35, score=0.9238776196204987, total=   0.5s\n",
      "[CV] n_estimators=37 .................................................\n",
      "[CV] ........ n_estimators=37, score=0.9384490530754375, total=   0.5s\n",
      "[CV] n_estimators=37 .................................................\n",
      "[CV] ........ n_estimators=37, score=0.9314691484567463, total=   0.5s\n",
      "[CV] n_estimators=37 .................................................\n",
      "[CV] ........ n_estimators=37, score=0.9262152249392873, total=   0.5s\n",
      "[CV] n_estimators=39 .................................................\n"
     ]
    },
    {
     "name": "stdout",
     "output_type": "stream",
     "text": [
      "[CV] ........ n_estimators=39, score=0.9428164438377401, total=   0.7s\n",
      "[CV] n_estimators=39 .................................................\n",
      "[CV] ........ n_estimators=39, score=0.9314464511814243, total=   0.7s\n",
      "[CV] n_estimators=39 .................................................\n",
      "[CV] ........ n_estimators=39, score=0.9287848053424925, total=   0.6s\n",
      "[CV] n_estimators=41 .................................................\n",
      "[CV] ........ n_estimators=41, score=0.9430857404253309, total=   0.7s\n",
      "[CV] n_estimators=41 .................................................\n",
      "[CV] ........ n_estimators=41, score=0.9413825876316618, total=   0.7s\n",
      "[CV] n_estimators=41 .................................................\n",
      "[CV] ........ n_estimators=41, score=0.9227305347743747, total=   0.6s\n",
      "[CV] n_estimators=43 .................................................\n",
      "[CV] ........ n_estimators=43, score=0.9449640438667319, total=   0.6s\n",
      "[CV] n_estimators=43 .................................................\n",
      "[CV] ........ n_estimators=43, score=0.9318179508407728, total=   0.6s\n",
      "[CV] n_estimators=43 .................................................\n",
      "[CV] ........ n_estimators=43, score=0.9339914225948309, total=   0.6s\n",
      "[CV] n_estimators=45 .................................................\n",
      "[CV] ......... n_estimators=45, score=0.941591462879534, total=   0.9s\n",
      "[CV] n_estimators=45 .................................................\n",
      "[CV] ........ n_estimators=45, score=0.9385867172597222, total=   0.8s\n",
      "[CV] n_estimators=45 .................................................\n",
      "[CV] ........ n_estimators=45, score=0.9256968317514401, total=   0.7s\n",
      "[CV] n_estimators=47 .................................................\n",
      "[CV] ........ n_estimators=47, score=0.9433982669037662, total=   0.7s\n",
      "[CV] n_estimators=47 .................................................\n",
      "[CV] ........ n_estimators=47, score=0.9313253683766688, total=   0.7s\n",
      "[CV] n_estimators=47 .................................................\n",
      "[CV] ........ n_estimators=47, score=0.9206553661265198, total=   0.7s\n",
      "[CV] n_estimators=49 .................................................\n",
      "[CV] ........ n_estimators=49, score=0.9464862094977455, total=   0.6s\n",
      "[CV] n_estimators=49 .................................................\n",
      "[CV] ........ n_estimators=49, score=0.9292069566094182, total=   0.7s\n",
      "[CV] n_estimators=49 .................................................\n",
      "[CV] ........ n_estimators=49, score=0.9320395857272304, total=   0.7s\n",
      "[CV] n_estimators=51 .................................................\n",
      "[CV] ......... n_estimators=51, score=0.937939698259251, total=   0.8s\n",
      "[CV] n_estimators=51 .................................................\n",
      "[CV] ........ n_estimators=51, score=0.9290410686819182, total=   0.7s\n",
      "[CV] n_estimators=51 .................................................\n"
     ]
    }
   ],
   "source": [
    "from sklearn.ensemble import RandomForestRegressor\n",
    "from sklearn.model_selection import GridSearchCV\n",
    "\n",
    "forest = RandomForestRegressor()\n",
    "param_grid = {'n_estimators' : list(range(1,999,2))}\n",
    "model_rf = GridSearchCV(forest, param_grid, verbose=3)\n",
    "\n",
    "model_rf.fit(X_train, y_train)\n",
    "print(model_rf.best_params_)\n",
    "print(model_rf.best_score_)\n",
    "\n",
    "y_pred_rf = model_rf.predict(X_test)"
   ]
  },
  {
   "cell_type": "code",
   "execution_count": null,
   "metadata": {},
   "outputs": [],
   "source": [
    "import pickle\n",
    "rf_model_filepath = '/Users/apple/Documents/Data Projects/Random_Forest_Model.sav'\n",
    "pickle.dump(model_rf, open(rf_model_filepath, 'wb'))"
   ]
  },
  {
   "cell_type": "code",
   "execution_count": null,
   "metadata": {},
   "outputs": [],
   "source": [
    "loaded_model = pickle.load(open(rf_model_filepath, 'rb'))\n",
    "result = loaded_model.score(X_test, y_test)\n",
    "print(result)"
   ]
  },
  {
   "cell_type": "code",
   "execution_count": null,
   "metadata": {},
   "outputs": [],
   "source": [
    "X_new.shape"
   ]
  },
  {
   "cell_type": "code",
   "execution_count": null,
   "metadata": {},
   "outputs": [],
   "source": [
    "rf_model_filepath2 = '/Users/apple/Documents/Data Projects/Machine_Learning_Apartment_Rent/Application/static/resources/Random_Forest_Model.sav'\n",
    "loaded_model2 = pickle.load(open(rf_model_filepath2, 'rb'))"
   ]
  },
  {
   "cell_type": "code",
   "execution_count": null,
   "metadata": {},
   "outputs": [],
   "source": [
    "loaded_model2.predict(X_new)"
   ]
  },
  {
   "cell_type": "code",
   "execution_count": null,
   "metadata": {},
   "outputs": [],
   "source": [
    "loaded_model.predict(X_new)"
   ]
  },
  {
   "cell_type": "code",
   "execution_count": null,
   "metadata": {},
   "outputs": [],
   "source": [
    "X_new = [1, 1, 750, 0.02, 2018, 1, 1, 1, 0, 0, 100, 100, 70000, 50000, 0, 0]\n",
    "X_new = pd.to_numeric(X_new)\n",
    "X_new = np.reshape(X_new, (1, 16))\n",
    "print(model_rf.predict(X_new))"
   ]
  },
  {
   "cell_type": "code",
   "execution_count": null,
   "metadata": {},
   "outputs": [],
   "source": [
    "!pip freeze"
   ]
  },
  {
   "cell_type": "markdown",
   "metadata": {},
   "source": [
    "# Model (IV) - Neural Network Model"
   ]
  },
  {
   "cell_type": "code",
   "execution_count": null,
   "metadata": {},
   "outputs": [],
   "source": [
    "from keras.models import Sequential\n",
    "from keras.layers import Dense, Activation\n",
    "from keras.callbacks import EarlyStopping, ModelCheckpoint\n",
    "from keras.wrappers.scikit_learn import KerasRegressor\n",
    "from sklearn.model_selection import cross_val_score\n",
    "from sklearn.model_selection import KFold\n",
    "from sklearn.preprocessing import MinMaxScaler\n",
    "from sklearn.pipeline import Pipeline"
   ]
  },
  {
   "cell_type": "code",
   "execution_count": null,
   "metadata": {},
   "outputs": [],
   "source": [
    "print(len(X_train.columns))\n",
    "print(X_train.columns)"
   ]
  },
  {
   "cell_type": "code",
   "execution_count": null,
   "metadata": {},
   "outputs": [],
   "source": [
    "scaler = MinMaxScaler()"
   ]
  },
  {
   "cell_type": "code",
   "execution_count": null,
   "metadata": {},
   "outputs": [],
   "source": [
    "# define neural network model\n",
    "model_nn = Sequential()\n",
    "model_nn.add(Dense(12, input_dim=16, kernel_initializer='random_uniform', activation='relu'))\n",
    "model_nn.add(Dense(8, kernel_initializer='random_uniform', activation='relu'))\n",
    "model_nn.add(Dense(4, kernel_initializer='random_uniform', activation='relu'))\n",
    "model_nn.add(Dense(1, kernel_initializer='random_uniform', activation='relu'))\n",
    "\n",
    "# compile model\n",
    "model_nn.compile(loss='mse', optimizer='adam')"
   ]
  },
  {
   "cell_type": "code",
   "execution_count": null,
   "metadata": {},
   "outputs": [],
   "source": [
    "model_nn.fit(X_train, y_train, batch_size=300, epochs=10000, \n",
    "             verbose=1, \n",
    "             callbacks=[EarlyStopping(monitor='loss', min_delta=1000, patience=300)])"
   ]
  },
  {
   "cell_type": "code",
   "execution_count": null,
   "metadata": {},
   "outputs": [],
   "source": [
    "filepath = \"//weights.{epoch:02d}-{loss:.2f}.hdf5\"\n",
    "checkpoint = ModelCheckpoint(filepath, monitor='loss', \n",
    "                             verbose=0, save_best_only=True, \n",
    "                             save_weights_only=False, mode='min', period=100)"
   ]
  },
  {
   "cell_type": "code",
   "execution_count": null,
   "metadata": {},
   "outputs": [],
   "source": [
    "y_predict = model_nn.predict(X_test)\n",
    "print(r2_score(y_test, y_predict))"
   ]
  },
  {
   "cell_type": "code",
   "execution_count": null,
   "metadata": {},
   "outputs": [],
   "source": [
    "X_new = [1, 1, 750, 0.02, 2018, 1, 1, 1, 0, 0, 100, 100, 70000, 50000, 0, 0]\n",
    "X_new = pd.to_numeric(X_new)\n",
    "X_new = np.reshape(X_new, (1, 16))"
   ]
  },
  {
   "cell_type": "code",
   "execution_count": null,
   "metadata": {},
   "outputs": [],
   "source": [
    "model_nn.predict(X_new)"
   ]
  },
  {
   "cell_type": "code",
   "execution_count": null,
   "metadata": {},
   "outputs": [],
   "source": [
    "X_train.columns"
   ]
  },
  {
   "cell_type": "markdown",
   "metadata": {},
   "source": [
    "# Model (V) - K Nearest Neighbour"
   ]
  },
  {
   "cell_type": "code",
   "execution_count": null,
   "metadata": {},
   "outputs": [],
   "source": [
    "from sklearn.neighbors import KNeighborsRegressor\n",
    "k_neighbour = KNeighborsRegressor()\n",
    "\n",
    "from sklearn.model_selection import GridSearchCV\n",
    "param_grid = {'n_neighbors' : list(range(1,999,2))}\n",
    "model_k_neighbour = GridSearchCV(k_neighbour, param_grid, verbose=3)\n",
    "\n",
    "model_k_neighbour.fit(X_train, y_train)\n",
    "\n",
    "model_k_neighbour.best_params_\n",
    "\n",
    "model_k_neighbour.best_score_\n",
    "\n",
    "y_pred_k_neighbour = model_k_neighbour.predict(X_test)"
   ]
  },
  {
   "cell_type": "code",
   "execution_count": null,
   "metadata": {},
   "outputs": [],
   "source": []
  },
  {
   "cell_type": "markdown",
   "metadata": {},
   "source": [
    "# Residuals"
   ]
  },
  {
   "cell_type": "code",
   "execution_count": null,
   "metadata": {
    "scrolled": true
   },
   "outputs": [],
   "source": [
    "plt.scatter(y_test_predicted, y_test_predicted-y_test)\n",
    "plt.hlines(y=0, xmin=y_test_predicted.min(), xmax=y_test_predicted.max())\n",
    "plt.show()"
   ]
  }
 ],
 "metadata": {
  "kernelspec": {
   "display_name": "Python [conda env:PyData]",
   "language": "python",
   "name": "conda-env-PyData-py"
  },
  "language_info": {
   "codemirror_mode": {
    "name": "ipython",
    "version": 3
   },
   "file_extension": ".py",
   "mimetype": "text/x-python",
   "name": "python",
   "nbconvert_exporter": "python",
   "pygments_lexer": "ipython3",
   "version": "3.6.7"
  }
 },
 "nbformat": 4,
 "nbformat_minor": 2
}
