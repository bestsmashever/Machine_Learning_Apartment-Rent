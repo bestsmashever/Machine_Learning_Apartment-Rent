{
 "cells": [
  {
   "cell_type": "code",
   "execution_count": 1,
   "metadata": {},
   "outputs": [],
   "source": [
    "import time\n",
    "from bs4 import BeautifulSoup\n",
    "from splinter import Browser"
   ]
  },
  {
   "cell_type": "code",
   "execution_count": 2,
   "metadata": {},
   "outputs": [],
   "source": [
    "Address = \"555 E 5th St, Austin, TX\""
   ]
  },
  {
   "cell_type": "code",
   "execution_count": 10,
   "metadata": {
    "scrolled": true
   },
   "outputs": [],
   "source": [
    "executable_path = {\"executable_path\": \"/usr/local/bin/chromedriver\"}\n",
    "browser = Browser(\"chrome\", **executable_path, headless=False)\n",
    "\n",
    "costar_url = \"https://costar.com/\"\n",
    "browser.visit(costar_url)\n",
    "\n",
    "# login\n",
    "browser.click_link_by_id('loginLink')\n",
    "browser.fill('username', 'SDong2')\n",
    "browser.fill('password', '719111719111')\n",
    "browser.click_link_by_id('loginButton')\n",
    "time.sleep(10)\n",
    "\n",
    "search_box = browser.find_by_xpath('//*[@id=\"cs-gateway-home-page\"]/div[2]/div[1]/div/div/div[2]/div/div[1]/input')\n",
    "search_box.fill(Address)\n",
    "search_button = browser.find_by_xpath('//*[@id=\"react-autowhatever-1--item-0\"]/div/span[1]')\n",
    "search_button.click()\n",
    "time.sleep(10)\n",
    "browser.find_by_xpath('//*[@id=\"TabLink12\"]/span[1]').click()\n",
    "\n",
    "try: \n",
    "    browser.find_by_xpath(\"//*[@id='DemographicsMainControl_DemogBtn']\").click()\n",
    "except:\n",
    "    browser.quit()"
   ]
  },
  {
   "cell_type": "code",
   "execution_count": 4,
   "metadata": {},
   "outputs": [
    {
     "data": {
      "text/plain": [
       "1997"
      ]
     },
     "execution_count": 4,
     "metadata": {},
     "output_type": "execute_result"
    }
   ],
   "source": [
    "built_year"
   ]
  },
  {
   "cell_type": "code",
   "execution_count": null,
   "metadata": {},
   "outputs": [],
   "source": [
    "median_household_income = browser.find_by_xpath('//*[@id=\"SummaryControl\"]/table/tbody/tr[10]/td[2]/span')[0].text"
   ]
  },
  {
   "cell_type": "code",
   "execution_count": null,
   "metadata": {},
   "outputs": [],
   "source": [
    "population = 16015"
   ]
  },
  {
   "cell_type": "code",
   "execution_count": null,
   "metadata": {},
   "outputs": [],
   "source": []
  },
  {
   "cell_type": "code",
   "execution_count": null,
   "metadata": {},
   "outputs": [],
   "source": [
    "Address = 'E 5th St, Austin, TX'\n",
    "url_population = \"https://www.freemaptools.com/find-population.htm\""
   ]
  },
  {
   "cell_type": "code",
   "execution_count": null,
   "metadata": {},
   "outputs": [],
   "source": [
    "population"
   ]
  },
  {
   "cell_type": "code",
   "execution_count": 14,
   "metadata": {},
   "outputs": [],
   "source": [
    "url_population = \"https://www.freemaptools.com/find-population.htm\"\n",
    "executable_path = {\"executable_path\": \"/usr/local/bin/chromedriver\"}\n",
    "browser = Browser(\"chrome\", **executable_path, headless=False)\n",
    "    \n",
    "browser.visit(url_population)\n",
    "time.sleep(5)\n",
    "browser.fill('radiusinputkm', '1.61')\n",
    "time.sleep(5)\n",
    "browser.find_by_id('tb_searchlocation').fill(Address)\n",
    "# browser.find_by_id('tb_searchlocation').fill('\\n')\n",
    "time.sleep(5)\n",
    "browser.find_by_tag('p')[3].click()\n",
    "population = browser.find_by_id('div_output').text\n",
    "population = population.split(' ')[-1]\n",
    "if population == \"Wait...\":\n",
    "    population = 20000\n",
    "browser.quit()"
   ]
  },
  {
   "cell_type": "code",
   "execution_count": 15,
   "metadata": {},
   "outputs": [
    {
     "data": {
      "text/plain": [
       "20000"
      ]
     },
     "execution_count": 15,
     "metadata": {},
     "output_type": "execute_result"
    }
   ],
   "source": [
    "population"
   ]
  },
  {
   "cell_type": "code",
   "execution_count": null,
   "metadata": {},
   "outputs": [],
   "source": []
  }
 ],
 "metadata": {
  "kernelspec": {
   "display_name": "Python [conda env:PyData]",
   "language": "python",
   "name": "conda-env-PyData-py"
  },
  "language_info": {
   "codemirror_mode": {
    "name": "ipython",
    "version": 3
   },
   "file_extension": ".py",
   "mimetype": "text/x-python",
   "name": "python",
   "nbconvert_exporter": "python",
   "pygments_lexer": "ipython3",
   "version": "3.6.7"
  }
 },
 "nbformat": 4,
 "nbformat_minor": 2
}
