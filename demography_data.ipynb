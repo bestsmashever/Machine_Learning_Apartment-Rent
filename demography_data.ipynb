{
 "cells": [
  {
   "cell_type": "code",
   "execution_count": 1,
   "metadata": {},
   "outputs": [],
   "source": [
    "# import dependencies\n",
    "from selenium import webdriver\n",
    "import requests\n",
    "import time\n",
    "import pandas as pd\n",
    "from bs4 import BeautifulSoup\n",
    "from splinter import Browser\n",
    "from tqdm import tqdm"
   ]
  },
  {
   "cell_type": "code",
   "execution_count": 2,
   "metadata": {},
   "outputs": [],
   "source": [
    "# URL of page to be scraped\n",
    "url_income = \"http://www.energyjustice.net/justice/index.php?gsLayer=income&gfLon=-97.72610848&gfLat=30.26540305&giZoom=15&gsGeo=tract&giAdvanced=1&\"\n",
    "url_population = \"https://www.freemaptools.com/find-population.htm\""
   ]
  },
  {
   "cell_type": "code",
   "execution_count": 3,
   "metadata": {},
   "outputs": [],
   "source": [
    "# retrive page with the requests module\n",
    "response = requests.get(url_income)\n",
    "# create beautifulsoup object; parse with 'html.parser'\n",
    "soup = BeautifulSoup(response.text, 'html.parser')"
   ]
  },
  {
   "cell_type": "code",
   "execution_count": 4,
   "metadata": {},
   "outputs": [],
   "source": [
    "executable_path = {'executable_path': 'chromedriver.exe'}\n",
    "browser = Browser('chrome', **executable_path, headless=False)"
   ]
  },
  {
   "cell_type": "code",
   "execution_count": 5,
   "metadata": {},
   "outputs": [],
   "source": [
    "apart_address = pd.read_csv(\"Appartment.csv\")"
   ]
  },
  {
   "cell_type": "code",
   "execution_count": 6,
   "metadata": {},
   "outputs": [],
   "source": [
    "addres_list = apart_address[\"Address\"].tolist()"
   ]
  },
  {
   "cell_type": "code",
   "execution_count": 7,
   "metadata": {},
   "outputs": [
    {
     "data": {
      "text/plain": [
       "5544"
      ]
     },
     "execution_count": 7,
     "metadata": {},
     "output_type": "execute_result"
    }
   ],
   "source": [
    "len(apart_address)"
   ]
  },
  {
   "cell_type": "code",
   "execution_count": 8,
   "metadata": {},
   "outputs": [
    {
     "name": "stdout",
     "output_type": "stream",
     "text": [
      "1600 Wickersham Ln\n",
      "Austin\n",
      "TX\n"
     ]
    }
   ],
   "source": [
    "street = input()\n",
    "city = input()\n",
    "state = input()\n",
    "address = street + \",\" + city + \",\" + state"
   ]
  },
  {
   "cell_type": "code",
   "execution_count": 9,
   "metadata": {
    "scrolled": true
   },
   "outputs": [],
   "source": [
    "Household_income = []\n",
    "\n",
    "\n",
    "# scrapping data for each appartment address\n",
    "try:\n",
    "    browser.visit(url_income)\n",
    "    browser.fill('gsLocation', address)\n",
    "    browser.find_by_name('gsSubmit_desk').first.click()\n",
    "\n",
    "    browser.find_by_id('income_layer_desk').first.click()\n",
    "    map_soup = BeautifulSoup(browser.html, 'html.parser')\n",
    "    income = map_soup.find_all('table')[1].find_all('td')[1].text\n",
    "    income = income.split(' ')[0]\n",
    "    Household_income.append(income)\n",
    "except:\n",
    "    pass"
   ]
  },
  {
   "cell_type": "code",
   "execution_count": 10,
   "metadata": {},
   "outputs": [],
   "source": [
    "Median_Population = []\n",
    "\n",
    "# scrapping population data only for Austin\n",
    "try:\n",
    "    browser.visit(url_population)\n",
    "    browser.fill('radiusinputkm', '1.61')\n",
    "    browser.find_by_id('tb_searchlocation').fill(address)\n",
    "    browser.find_by_id('tb_searchlocation').fill('\\n')\n",
    "    time.sleep(3)\n",
    "    browser.find_by_tag('p')[3].click()\n",
    "    population = browser.find_by_id('div_output').text\n",
    "    population = population.split(' ')[-1]\n",
    "    Median_Population.append(population)\n",
    "except:\n",
    "    pass"
   ]
  },
  {
   "cell_type": "code",
   "execution_count": 11,
   "metadata": {},
   "outputs": [
    {
     "name": "stdout",
     "output_type": "stream",
     "text": [
      "['$74,643'] ['Wait...']\n"
     ]
    }
   ],
   "source": [
    "print(Household_income,Median_Population)"
   ]
  }
 ],
 "metadata": {
  "kernelspec": {
   "display_name": "PythonData",
   "language": "python",
   "name": "pythondata"
  },
  "language_info": {
   "codemirror_mode": {
    "name": "ipython",
    "version": 3
   },
   "file_extension": ".py",
   "mimetype": "text/x-python",
   "name": "python",
   "nbconvert_exporter": "python",
   "pygments_lexer": "ipython3",
   "version": "3.6.5"
  }
 },
 "nbformat": 4,
 "nbformat_minor": 2
}
